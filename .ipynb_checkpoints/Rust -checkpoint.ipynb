{
 "cells": [
  {
   "cell_type": "code",
   "execution_count": 1,
   "id": "5f069482-725c-45f9-a0ea-12797165bbf1",
   "metadata": {},
   "outputs": [],
   "source": [
    "import pandas as pd\n",
    "import numpy as np\n",
    "import matplotlib.pyplot as plt\n",
    "import seaborn as sns"
   ]
  },
  {
   "cell_type": "code",
   "execution_count": 2,
   "id": "a223183d-81b5-4947-8fa3-4b1374cc38ae",
   "metadata": {},
   "outputs": [
    {
     "name": "stdout",
     "output_type": "stream",
     "text": [
      "Issues total records, 55917\n",
      "Pull requests total records, 55744\n",
      "Value counts for type column type\n",
      "issue           55917\n",
      "pull_request    55744\n",
      "Name: count, dtype: int64\n"
     ]
    }
   ],
   "source": [
    "df = pd.read_csv('github_rust_issues.csv', low_memory=False)\n",
    "# df.describe()\n",
    "\n",
    "issues_df = df[df['type'] == 'issue']\n",
    "prs_df = df[df['type'] == 'pull_request']\n",
    "\n",
    "print(f\"Issues total records, {len(issues_df)}\")\n",
    "print(f\"Pull requests total records, {len(prs_df)}\")\n",
    "print(f\"Value counts for type column {df['type'].value_counts()}\")"
   ]
  },
  {
   "cell_type": "code",
   "execution_count": 3,
   "id": "0f97e9dd-a2a0-47cd-8a6e-ad7d638f037d",
   "metadata": {},
   "outputs": [
    {
     "name": "stdout",
     "output_type": "stream",
     "text": [
      "PRs WITH skip news label: 0 (0.0%)\n",
      "PRs WITHOUT skip news label: 55744 (100.0%)\n",
      "Total PRs: 55744\n"
     ]
    }
   ],
   "source": [
    "# The number of PRs, that does require skip-news label and do not require skip-news label\n",
    "skip_count = prs_df[prs_df[\"labels\"].fillna(\"\").str.contains(\"skip news\", case=False, na=False)]\n",
    "non_skip_count = prs_df[~prs_df[\"labels\"].fillna(\"\").str.contains(\"skip news\", case=False, na=False)]\n",
    "\n",
    "total_prs = len(prs_df)\n",
    "skip_percentage = (len(skip_count) / total_prs) * 100\n",
    "non_skip_percentage = (len(non_skip_count) / total_prs) * 100\n",
    "\n",
    "print(f\"PRs WITH skip news label: {len(skip_count)} ({skip_percentage:.1f}%)\")\n",
    "print(f\"PRs WITHOUT skip news label: {len(non_skip_count)} ({non_skip_percentage:.1f}%)\")\n",
    "print(f\"Total PRs: {total_prs}\")\n"
   ]
  },
  {
   "cell_type": "code",
   "execution_count": 4,
   "id": "5165134d-7a27-4bd2-9a86-4be1fdf2164b",
   "metadata": {},
   "outputs": [
    {
     "name": "stdout",
     "output_type": "stream",
     "text": [
      "Issues WITH skip news label: 0 (0.0%)\n",
      "Issues WITHOUT skip news label: 55917 (100.0%)\n",
      "Total Issues: 55917\n"
     ]
    }
   ],
   "source": [
    "# The number of Issues, that does require skip-news label and do not require skip-news label\n",
    "skip_count = issues_df[issues_df[\"labels\"].fillna(\"\").str.contains(\"skip news\", case=False, na=False)]\n",
    "non_skip_count = issues_df[~issues_df[\"labels\"].fillna(\"\").str.contains(\"skip news\", case=False, na=False)]\n",
    "\n",
    "total_prs = len(issues_df)\n",
    "skip_percentage = (len(skip_count) / total_prs) * 100\n",
    "non_skip_percentage = (len(non_skip_count) / total_prs) * 100\n",
    "\n",
    "print(f\"Issues WITH skip news label: {len(skip_count)} ({skip_percentage:.1f}%)\")\n",
    "print(f\"Issues WITHOUT skip news label: {len(non_skip_count)} ({non_skip_percentage:.1f}%)\")\n",
    "print(f\"Total Issues: {total_prs}\")\n"
   ]
  },
  {
   "cell_type": "code",
   "execution_count": 5,
   "id": "2918b7dd-2498-432d-ba8e-e630d8414a2b",
   "metadata": {},
   "outputs": [
    {
     "name": "stdout",
     "output_type": "stream",
     "text": [
      "Value counts for PRs: pr_status\n",
      "merged    41514\n",
      "open      14230\n",
      "Name: count, dtype: int64\n"
     ]
    }
   ],
   "source": [
    "# Value counts for PRs\n",
    "print(f\"Value counts for PRs: {prs_df['pr_status'].value_counts()}\")"
   ]
  },
  {
   "cell_type": "code",
   "execution_count": 6,
   "id": "56ae076f-50ec-4a20-8e98-9d22c4948cda",
   "metadata": {},
   "outputs": [],
   "source": [
    "# Value counts for Issues\n",
    "def analyze_github_data(df, data_type=\"Issues\"):\n",
    "    # Create a copy to avoid SettingWithCopyWarning\n",
    "    df = df.copy()\n",
    "    \n",
    "    # Convert date columns to datetime, handling NaT (Not a Time) values\n",
    "    df.loc[:, 'created_at'] = pd.to_datetime(df['created_at'], errors='coerce')\n",
    "    df.loc[:, 'closed_at'] = pd.to_datetime(df['closed_at'], errors='coerce')\n",
    "    \n",
    "    # Only process rows where created_at is not null\n",
    "    df = df[df['created_at'].notna()]\n",
    "    \n",
    "    # Create month columns\n",
    "    df.loc[:, 'created_month'] = df['created_at'].dt.to_period('M')\n",
    "    df.loc[:, 'closed_month'] = df['closed_at'].dt.to_period('M')\n",
    "    \n",
    "    # Calculate resolution time (only for items that have both created and closed dates)\n",
    "    mask = df['closed_at'].notna() & df['created_at'].notna()\n",
    "    df.loc[:, 'resolution_days'] = pd.NA\n",
    "    df.loc[mask, 'resolution_days'] = (\n",
    "        df.loc[mask, 'closed_at'] - df.loc[mask, 'created_at']\n",
    "    ).dt.total_seconds() / (24 * 60 * 60)\n",
    "    \n",
    "    # Calculate monthly statistics\n",
    "    monthly_stats = df.groupby('created_month').agg({\n",
    "        'id': 'count',\n",
    "        'state': lambda x: (x == 'CLOSED').sum()\n",
    "    }).rename(columns={\n",
    "        'id': 'created',\n",
    "        'state': 'closed'\n",
    "    })\n",
    "    \n",
    "    # Calculate average resolution time\n",
    "    avg_resolution_time = df['resolution_days'].mean()\n",
    "    \n",
    "    return monthly_stats, avg_resolution_time\n",
    "\n",
    "def plot_issue_trends(monthly_stats, avg_resolution_time):\n",
    "    # Set the style\n",
    "    sns.set_style(\"whitegrid\")\n",
    "    \n",
    "    # Create figure and axis objects with a single subplot\n",
    "    fig, (ax1, ax2) = plt.subplots(2, 1, figsize=(12, 10), height_ratios=[2, 1])\n",
    "    \n",
    "    # Plot created and closed issues\n",
    "    monthly_stats['created'].plot(ax=ax1, label='Created', marker='o')\n",
    "    monthly_stats['closed'].plot(ax=ax1, label='Closed', marker='o')\n",
    "    \n",
    "    ax1.set_title('GitHub Issues Trends')\n",
    "    ax1.set_xlabel('Month')\n",
    "    ax1.set_ylabel('Number of Issues')\n",
    "    ax1.legend()\n",
    "    \n",
    "    # Plot ratio of closed to created issues\n",
    "    ratio = monthly_stats['closed'] / monthly_stats['created']\n",
    "    ratio.plot(ax=ax2, label='Closed/Created Ratio', marker='o')\n",
    "    ax2.axhline(y=1, color='r', linestyle='--', label='1:1 Ratio')\n",
    "    \n",
    "    ax2.set_title(f'Closed/Created Ratio (Avg Resolution Time: {avg_resolution_time:.1f} days)')\n",
    "    ax2.set_xlabel('Month')\n",
    "    ax2.set_ylabel('Ratio')\n",
    "    ax2.legend()\n",
    "    \n",
    "    plt.tight_layout()\n",
    "    return fig\n",
    "\n",
    "    "
   ]
  },
  {
   "cell_type": "code",
   "execution_count": 7,
   "id": "b8909100-9bca-4b9b-8782-589dcade594d",
   "metadata": {},
   "outputs": [
    {
     "ename": "NameError",
     "evalue": "name 'analyze_github_issues' is not defined",
     "output_type": "error",
     "traceback": [
      "\u001b[0;31m---------------------------------------------------------------------------\u001b[0m",
      "\u001b[0;31mNameError\u001b[0m                                 Traceback (most recent call last)",
      "Cell \u001b[0;32mIn[7], line 1\u001b[0m\n\u001b[0;32m----> 1\u001b[0m monthly_stats, avg_resolution_time \u001b[38;5;241m=\u001b[39m \u001b[43manalyze_github_issues\u001b[49m(issues_df)\n\u001b[1;32m      2\u001b[0m fig \u001b[38;5;241m=\u001b[39m plot_issue_trends(monthly_stats, avg_resolution_time)\n\u001b[1;32m      3\u001b[0m plt\u001b[38;5;241m.\u001b[39mshow()\n",
      "\u001b[0;31mNameError\u001b[0m: name 'analyze_github_issues' is not defined"
     ]
    }
   ],
   "source": [
    "monthly_stats, avg_resolution_time = analyze_github_data(issues_df)\n",
    "fig = plot_issue_trends(monthly_stats, avg_resolution_time)\n",
    "plt.show()\n"
   ]
  },
  {
   "cell_type": "code",
   "execution_count": null,
   "id": "891fa942-1fb8-4d6d-91b8-e4087ca22110",
   "metadata": {},
   "outputs": [],
   "source": [
    "monthly_stats, avg_resolution_time = analyze_github_issues(prs_df)\n",
    "fig = plot_issue_trends(monthly_stats, avg_resolution_time)\n",
    "plt.show()\n"
   ]
  }
 ],
 "metadata": {
  "kernelspec": {
   "display_name": "Python 3 (ipykernel)",
   "language": "python",
   "name": "python3"
  },
  "language_info": {
   "codemirror_mode": {
    "name": "ipython",
    "version": 3
   },
   "file_extension": ".py",
   "mimetype": "text/x-python",
   "name": "python",
   "nbconvert_exporter": "python",
   "pygments_lexer": "ipython3",
   "version": "3.12.7"
  }
 },
 "nbformat": 4,
 "nbformat_minor": 5
}
